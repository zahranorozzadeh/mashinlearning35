{
 "cells": [
  {
   "cell_type": "code",
   "execution_count": 28,
   "id": "8cc344dc-6a97-4aca-81be-52b6ef4b8844",
   "metadata": {},
   "outputs": [],
   "source": [
    "import numpy as np\n",
    "import matplotlib.pyplot as plt\n",
    "import pandas as pd\n",
    "from numpy.linalg import inv\n",
    "\n",
    "data = pd.read_csv('regressionOutliers.csv')\n",
    "\n",
    "X_train = data['X']\n",
    "Y_train = data['Y']\n"
   ]
  },
  {
   "cell_type": "code",
   "execution_count": 29,
   "id": "092f02d9-ac65-4a83-976c-d18c30260dce",
   "metadata": {},
   "outputs": [
    {
     "data": {
      "text/plain": [
       "0    0.655210\n",
       "1    0.752910\n",
       "2    0.810860\n",
       "3    0.048427\n",
       "4    0.414710\n",
       "Name: X, dtype: float64"
      ]
     },
     "execution_count": 29,
     "metadata": {},
     "output_type": "execute_result"
    }
   ],
   "source": [
    "X_train.head()"
   ]
  },
  {
   "cell_type": "code",
   "execution_count": 30,
   "id": "ef453e4c-d31c-4d74-a952-11156e64fe16",
   "metadata": {},
   "outputs": [
    {
     "data": {
      "text/plain": [
       "0   -5.1815\n",
       "1   -4.6796\n",
       "2   -3.6935\n",
       "3   -1.2416\n",
       "4   -2.1358\n",
       "Name: Y, dtype: float64"
      ]
     },
     "execution_count": 30,
     "metadata": {},
     "output_type": "execute_result"
    }
   ],
   "source": [
    "Y_train.head()"
   ]
  },
  {
   "cell_type": "code",
   "execution_count": 31,
   "id": "16e13667-fa91-4b40-a1be-bbce824052a2",
   "metadata": {},
   "outputs": [],
   "source": [
    "X = np.array(X_train)\n",
    "Y = np.array(Y_train)"
   ]
  },
  {
   "cell_type": "code",
   "execution_count": 32,
   "id": "780b731f-bdeb-482d-80cd-f019b1972b45",
   "metadata": {},
   "outputs": [],
   "source": [
    "X = X.reshape(400,1)\n",
    "Y  =Y .reshape(400,1)"
   ]
  },
  {
   "cell_type": "code",
   "execution_count": 33,
   "id": "b5b88e97-d121-455e-920e-6fcab3d28c42",
   "metadata": {},
   "outputs": [
    {
     "data": {
      "text/plain": [
       "(400, 1)"
      ]
     },
     "execution_count": 33,
     "metadata": {},
     "output_type": "execute_result"
    }
   ],
   "source": [
    "X.shape"
   ]
  },
  {
   "cell_type": "code",
   "execution_count": 34,
   "id": "971f7404-5956-4bbc-85d1-98e544ce1ab6",
   "metadata": {},
   "outputs": [
    {
     "data": {
      "text/plain": [
       "(1, 400)"
      ]
     },
     "execution_count": 34,
     "metadata": {},
     "output_type": "execute_result"
    }
   ],
   "source": [
    "X.T.shape"
   ]
  },
  {
   "cell_type": "code",
   "execution_count": 35,
   "id": "c98e7974-26a8-4148-8e09-48dc582d67bb",
   "metadata": {},
   "outputs": [],
   "source": [
    "# m = (X.XT)^-1 * yXT"
   ]
  },
  {
   "cell_type": "code",
   "execution_count": 37,
   "id": "09336048-f001-4a47-a54a-16a36e2472cf",
   "metadata": {},
   "outputs": [
    {
     "data": {
      "text/plain": [
       "array([[-1.80480221]])"
      ]
     },
     "execution_count": 37,
     "metadata": {},
     "output_type": "execute_result"
    }
   ],
   "source": [
    "m = np.matmul(inv(np.matmul(X.T,X)),np.matmul(X.T,Y))\n",
    "m"
   ]
  },
  {
   "cell_type": "code",
   "execution_count": 40,
   "id": "375dcceb-b9bd-45de-bd97-ee71461ce5f2",
   "metadata": {},
   "outputs": [
    {
     "data": {
      "text/plain": [
       "(0.0, 2.0)"
      ]
     },
     "execution_count": 40,
     "metadata": {},
     "output_type": "execute_result"
    },
    {
     "data": {
      "image/png": "[encoded data removed]",
      "text/plain": [
       "<Figure size 432x288 with 1 Axes>"
      ]
     },
     "metadata": {
      "needs_background": "light"
     },
     "output_type": "display_data"
    }
   ],
   "source": [
    "Y_pred = np.matmul(X,m)\n",
    "plt.scatter(X,Y, c='blue')\n",
    "plt.plot(X,Y_pred , c = 'red' , lw=4)\n",
    "plt.xlim(0,2)"
   ]
  },
  {
   "cell_type": "code",
   "execution_count": null,
   "id": "25dca7b4-e300-4bb7-b666-257646137c4d",
   "metadata": {},
   "outputs": [],
   "source": []
  }
 ],
 "metadata": {
  "kernelspec": {
   "display_name": "Python 3",
   "language": "python",
   "name": "python3"
  },
  "language_info": {
   "codemirror_mode": {
    "name": "ipython",
    "version": 3
   },
   "file_extension": ".py",
   "mimetype": "text/x-python",
   "name": "python",
   "nbconvert_exporter": "python",
   "pygments_lexer": "ipython3",
   "version": "3.8.8"
  }
 },
 "nbformat": 4,
 "nbformat_minor": 5
}
